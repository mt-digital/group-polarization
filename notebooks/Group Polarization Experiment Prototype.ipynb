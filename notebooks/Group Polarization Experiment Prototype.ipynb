{
 "cells": [
  {
   "cell_type": "markdown",
   "metadata": {},
   "source": [
    "## Outline\n",
    "\n",
    "### Part 1: Run simulation and calculate group shift\n",
    "\n",
    "1. Create scenario where agents are fully connected with a specified  opinion mean and variance. \n",
    "1. Internally, initial opinions will be genrated using that mean and variance.\n",
    "1. Run a simulation for a given number of steps that will be specified by the individual empirical setting we want to model.\n",
    "1. Calculate final mean; subtract initial mean from final mean to get the group polarization shift.\n",
    "\n",
    "### Part 2: Modfiy polarization.py code to set $\\alpha$\n",
    "\n",
    "### Part 3: Fit model to empirical data\n",
    "\n",
    "1. Run experiment many times until $\\alpha$ found that causes shifts to match.\n",
    "\n",
    "\n",
    "## Part 1"
   ]
  },
  {
   "cell_type": "code",
   "execution_count": 3,
   "metadata": {},
   "outputs": [
    {
     "name": "stdout",
     "output_type": "stream",
     "text": [
      "[0.6110070277370631, 0.478584770269384, 0.5543573772107447, 0.5217622247989323]\n",
      "[0.6110070277370631, 0.478584770269384, 0.5481886277700047, 0.5217622247989323]\n",
      "[0.6110070277370631, 0.4969809200389373, 0.5481886277700047, 0.5269985342366547]\n",
      "[0.6110070277370631, 0.4969809200389373, 0.5481886277700047, 0.5269985342366547]\n",
      "[0.6110070277370631, 0.5119647006400875, 0.5481886277700047, 0.533550360252695]\n",
      "[0.5856199569977515, 0.5119647006400875, 0.5481886277700047, 0.5414682896185109]\n",
      "[0.5856199569977515, 0.5226831792386166, 0.5481886277700047, 0.5414682896185109]\n",
      "[0.5856199569977515, 0.5226831792386166, 0.5481886277700047, 0.5436825521649757]\n",
      "[0.5856199569977515, 0.5226831792386166, 0.5488297937316453, 0.546982956929135]\n",
      "[0.5856199569977515, 0.5226831792386166, 0.5494384832759641, 0.546982956929135]\n",
      "\n",
      "Initial mean: 0.5231590573241524\n",
      "Final mean: 0.5511811441103668\n",
      "Difference: 0.02802208678621443\n"
     ]
    }
   ],
   "source": [
    "import numpy as np\n",
    "\n",
    "import sys\n",
    "sys.path.append('../polarization/polarization/')\n",
    "\n",
    "from polarization import Experiment, Network, Agent\n",
    "import networkx as nx\n",
    "graph = nx.complete_graph(4)\n",
    "\n",
    "# agents = [Agent(n_opinions=1) for _ in range(4)]\n",
    "graph = nx.relabel_nodes(\n",
    "    graph, \n",
    "    {n: Agent(n_opinions=1, low_opinion=0.25, high_opinion=0.75) for n in graph.nodes()}\n",
    ")\n",
    "\n",
    "n = Network(graph)\n",
    "\n",
    "mean_ops = lambda net: np.mean([nd.opinions[0] for nd in n.graph.nodes()])\n",
    "\n",
    "init_mean = mean_ops(n)\n",
    "for it in range(10):\n",
    "    n.iterate()\n",
    "    print([nd.opinions[0] for nd in n.graph.nodes()])\n",
    "final_mean = mean_ops(n)\n",
    "shift = final_mean - init_mean\n",
    "print(\"\\nInitial mean: {}\\nFinal mean: {}\\nDifference: {}\".format(init_mean, final_mean, shift))"
   ]
  },
  {
   "cell_type": "code",
   "execution_count": 4,
   "metadata": {},
   "outputs": [],
   "source": [
    "class ShiftExperiment:\n",
    "    \n",
    "    def __init__(self, n_agents, low_init_op, high_init_op):\n",
    "        ## Initialize the interaction Network. \n",
    "        \n",
    "        # Begin with a complete graph and assigning graph nodes to be Agents\n",
    "        # with specified initial opinions.\n",
    "        graph = nx.complete_graph(n_agents)\n",
    "        graph = nx.relabel_nodes(\n",
    "            graph, \n",
    "            {n: Agent(n_opinions=1, low_opinion=low_init_op, high_opinion=high_init_op) \n",
    "             for n in graph.nodes()}\n",
    "        )\n",
    "        # Only considering one-dimensional opinion vectors for now.\n",
    "        self.init_opinions = [nd.opinions[0] for nd in graph.nodes()]\n",
    "        self.network = Network(graph)        \n",
    "    \n",
    "    def run(self, n_iter, alpha=1):\n",
    "        '''\n",
    "        Iterate the system the specified number of times to run the experiment.\n",
    "        \n",
    "        Returns:\n",
    "            (ShiftExperimentResult): Object that holds the initial and\n",
    "                final opinions and the network.\n",
    "        '''\n",
    "        for _ in range(n_iter):\n",
    "            self.network.iterate(alpha=alpha)\n",
    "        \n",
    "        self.final_opinions = [nd.opinions[0] for nd \n",
    "                               in self.network.graph.nodes()]\n",
    "        \n",
    "        return ShiftExperimentResult(\n",
    "            self.init_opinions, self.final_opinions, self.network\n",
    "        )\n",
    "    \n",
    "    \n",
    "class ShiftExperimentResult:\n",
    "    \n",
    "    def __init__(self, initial_opinions, final_opinions, network):\n",
    "        self.initial_opinions = initial_opinions\n",
    "        self.final_opinions = final_opinions\n",
    "        self.network = network\n",
    "        self.shift = np.mean(final_opinions) - np.mean(initial_opinions)"
   ]
  },
  {
   "cell_type": "code",
   "execution_count": 5,
   "metadata": {},
   "outputs": [
    {
     "data": {
      "text/plain": [
       "(array([1., 0., 0., 1., 1., 0., 0., 6., 2., 2., 6., 3., 8., 4., 9., 8., 8.,\n",
       "        7., 9., 4., 4., 8., 2., 4., 0., 2., 0., 0., 0., 1.]),\n",
       " array([0.0042563 , 0.0051358 , 0.0060153 , 0.0068948 , 0.0077743 ,\n",
       "        0.0086538 , 0.0095333 , 0.0104128 , 0.01129231, 0.01217181,\n",
       "        0.01305131, 0.01393081, 0.01481031, 0.01568981, 0.01656931,\n",
       "        0.01744881, 0.01832832, 0.01920782, 0.02008732, 0.02096682,\n",
       "        0.02184632, 0.02272582, 0.02360532, 0.02448482, 0.02536433,\n",
       "        0.02624383, 0.02712333, 0.02800283, 0.02888233, 0.02976183,\n",
       "        0.03064133]),\n",
       " <a list of 30 Patch objects>)"
      ]
     },
     "execution_count": 5,
     "metadata": {},
     "output_type": "execute_result"
    },
    {
     "data": {
      "image/png": "[encoded data removed]",
      "text/plain": [
       "<Figure size 432x288 with 1 Axes>"
      ]
     },
     "metadata": {
      "needs_background": "light"
     },
     "output_type": "display_data"
    }
   ],
   "source": [
    "# %%timeit -n1 -r1\n",
    "# %%timeit\n",
    "\n",
    "n_trials = 100\n",
    "shifts = np.zeros((n_trials,), dtype=float)\n",
    "for idx in range(n_trials):\n",
    "    experiment = ShiftExperiment(25, 0.55, 0.95)\n",
    "    res = experiment.run(10)\n",
    "    shifts[idx] = res.shift\n",
    "#     print(res.shift)\n",
    "\n",
    "\n",
    "import matplotlib.pyplot as plt\n",
    "\n",
    "plt.hist(shifts, bins=30)"
   ]
  },
  {
   "cell_type": "code",
   "execution_count": 6,
   "metadata": {},
   "outputs": [
    {
     "name": "stdout",
     "output_type": "stream",
     "text": [
      "0.01806106739134572\n",
      "0.004559954717981315\n",
      "0.16254960652211148\n",
      "0.041039592461831836\n"
     ]
    }
   ],
   "source": [
    "print(np.mean(shifts))\n",
    "print(np.std(shifts))\n",
    "print(np.mean(shifts)*9)\n",
    "print(np.std(shifts)*9)"
   ]
  },
  {
   "cell_type": "code",
   "execution_count": 7,
   "metadata": {},
   "outputs": [
    {
     "name": "stdout",
     "output_type": "stream",
     "text": [
      "Myers & Bishop 1970 Low prej.:\n",
      "Init:  0.32666666666666666 \n",
      "Final: 0.3788888888888889\n",
      "Myers & Bishop 1970 Med. prej.:\n",
      "Init:  0.14444444444444446 \n",
      "Final: 0.07444444444444445 \n",
      "\n",
      "Myers & Bishop 1970 High prej.:\n",
      "Init:  -0.18888888888888888 \n",
      "Final: -0.33444444444444443 \n",
      "\n",
      "Myers 1975 Chauvinists:\n",
      "Init:  -0.15857142857142859 \n",
      "Final: -0.16285714285714284 \n",
      "\n",
      "Myers 1975 Feminists:\n",
      "Init:  0.11142857142857143 \n",
      "Final: 0.24571428571428572 \n",
      "\n"
     ]
    }
   ],
   "source": [
    "print(\"Myers & Bishop 1970 Low prej.:\\nInit: \", \n",
    "      2.94 / 9, \"\\nFinal:\", 3.41 / 9)\n",
    "print(\"Myers & Bishop 1970 Med. prej.:\\nInit: \", \n",
    "      1.3 / 9, \"\\nFinal:\", 0.67 / 9, \"\\n\")\n",
    "print(\"Myers & Bishop 1970 High prej.:\\nInit: \", \n",
    "      -1.7 / 9, \"\\nFinal:\", -3.01 / 9, \"\\n\")\n",
    "\n",
    "print(\"Myers 1975 Chauvinists:\\nInit: \", \n",
    "      -1.11 / 7, \"\\nFinal:\", -1.14 / 7, \"\\n\")\n",
    "print(\"Myers 1975 Feminists:\\nInit: \", \n",
    "      0.78 / 7, \"\\nFinal:\", 1.72 / 7, \"\\n\")"
   ]
  },
  {
   "cell_type": "markdown",
   "metadata": {},
   "source": [
    "## Part 2: Modify existing code to be able to set $\\alpha$\n",
    "\n",
    "The existing code I'm using is in `polarization/polarization/polarization.py`. Soon I need to take some time to create a new file with project-specific code and burn the unneeded chaff from the paths to polarization project. But not yet, I'll do it once I have a solid prototype study with the five bits of data I listed above and included in the two-page abstract.\n",
    "\n",
    "Done with mod, was an easy change. `Network.iterate` (l. 173) calls `opinion_update_vec` (l. 372) which implements that part of the equation. I added a kwarg `alpha` to both of those, and if it is provided the absolute value of the opinion raised to the power of $\\alpha$ is used instead of just the opinion itself. "
   ]
  },
  {
   "cell_type": "code",
   "execution_count": 8,
   "metadata": {},
   "outputs": [],
   "source": [
    "n_trials = 100\n",
    "\n",
    "def run_trials(n_agents, alpha, init_op_min, init_op_max, n_iter=10, n_trials=100):\n",
    "    \n",
    "    shifts = np.zeros((n_trials,), dtype=float)\n",
    "\n",
    "    for idx in range(n_trials):\n",
    "        experiment = ShiftExperiment(n_agents, init_op_min, init_op_max)\n",
    "        res = experiment.run(n_iter, alpha)\n",
    "        shifts[idx] = res.shift\n",
    "    \n",
    "    return shifts"
   ]
  },
  {
   "cell_type": "code",
   "execution_count": 9,
   "metadata": {},
   "outputs": [],
   "source": [
    "n_agents = 25\n",
    "alpha = 1.0\n",
    "init_op_min = .65\n",
    "init_op_max = .75\n",
    "n_iter = 10\n",
    "n_trials = 100\n",
    "\n",
    "# shifts = run_trials(n_agents, alpha, init_op_min, init_op_max, n_iter, n_trials)"
   ]
  },
  {
   "cell_type": "code",
   "execution_count": 10,
   "metadata": {},
   "outputs": [
    {
     "data": {
      "text/plain": [
       "(array([ 1.,  2.,  8., 11., 21., 23., 17., 14.,  2.,  1.]),\n",
       " array([0.0042563 , 0.0068948 , 0.0095333 , 0.01217181, 0.01481031,\n",
       "        0.01744881, 0.02008732, 0.02272582, 0.02536433, 0.02800283,\n",
       "        0.03064133]),\n",
       " <a list of 10 Patch objects>)"
      ]
     },
     "execution_count": 10,
     "metadata": {},
     "output_type": "execute_result"
    },
    {
     "data": {
      "image/png": "[encoded data removed]",
      "text/plain": [
       "<Figure size 432x288 with 1 Axes>"
      ]
     },
     "metadata": {
      "needs_background": "light"
     },
     "output_type": "display_data"
    }
   ],
   "source": [
    "plt.hist(shifts)"
   ]
  },
  {
   "cell_type": "code",
   "execution_count": 11,
   "metadata": {},
   "outputs": [
    {
     "name": "stdout",
     "output_type": "stream",
     "text": [
      "\n",
      "\n",
      "\n",
      "[0.00091814 0.00082716 0.00079504]\n"
     ]
    }
   ],
   "source": [
    "# Check to see if setting alpha differently significantly affects results.\n",
    "\n",
    "alphas = [0.85, 1.0, 3]\n",
    "means_over_alphas = np.zeros(len(alphas))\n",
    "\n",
    "for idx, alpha in enumerate(alphas):\n",
    "    print()\n",
    "    means_over_alphas[idx] = np.mean(\n",
    "        run_trials(n_agents, alpha, init_op_min, init_op_max, n_iter, n_trials)\n",
    "    )\n",
    "\n",
    "print(means_over_alphas)"
   ]
  },
  {
   "cell_type": "code",
   "execution_count": 12,
   "metadata": {},
   "outputs": [
    {
     "name": "stdout",
     "output_type": "stream",
     "text": [
      "[0.00357473 0.02277619 0.02433154 0.02178393 0.02599649 0.0243217 ]\n"
     ]
    }
   ],
   "source": [
    "n_iter = 8\n",
    "n_trials = 50\n",
    "\n",
    "alphas = [0.05, 0.7, 0.9, 0.95, 1.0, 1.1] #, 5]\n",
    "means_over_alphas = np.zeros(len(alphas))\n",
    "\n",
    "init_op_min = .2\n",
    "init_op_max = .8\n",
    "\n",
    "for idx, alpha in enumerate(alphas):\n",
    "\n",
    "    means_over_alphas[idx] = np.mean(\n",
    "        run_trials(n_agents, alpha, init_op_min, init_op_max, n_iter, n_trials)\n",
    "    )\n",
    "\n",
    "print(means_over_alphas)"
   ]
  },
  {
   "cell_type": "code",
   "execution_count": null,
   "metadata": {},
   "outputs": [],
   "source": []
  },
  {
   "cell_type": "code",
   "execution_count": 13,
   "metadata": {},
   "outputs": [
    {
     "data": {
      "text/plain": [
       "[<matplotlib.lines.Line2D at 0x11ff54e50>]"
      ]
     },
     "execution_count": 13,
     "metadata": {},
     "output_type": "execute_result"
    },
    {
     "data": {
      "image/png": "[encoded data removed]",
      "text/plain": [
       "<Figure size 432x288 with 1 Axes>"
      ]
     },
     "metadata": {
      "needs_background": "light"
     },
     "output_type": "display_data"
    }
   ],
   "source": [
    "x = np.arange(0, 1, .01)\n",
    "y1 = 1 - np.power(x, .25)\n",
    "y2 = 1 - x\n",
    "y3 = 1 - np.power(x, 2)\n",
    "plt.plot(x, y1)\n",
    "plt.plot(x, y2)\n",
    "plt.plot(x, y3)"
   ]
  },
  {
   "cell_type": "markdown",
   "metadata": {},
   "source": [
    "### Results of initial tries\n",
    "\n",
    "It appears this approach will not work. Interestingly it seems the linear term where $\\alpha=1$ results in the maximum shift. Still, it also appears to be tunable, so maybe it's possible to use somehow. To start I will see what the shifts are in the linear case for the five studies whose data I have above. "
   ]
  },
  {
   "cell_type": "code",
   "execution_count": 14,
   "metadata": {},
   "outputs": [],
   "source": [
    "class ObservedShift:\n",
    "    \n",
    "    def __init__(self, study_id, condition_id, initial_mean, \n",
    "                 final_mean, opinion_scale):\n",
    "        \n",
    "        self.study_id = study_id\n",
    "        self.condition_id = condition_id\n",
    "        self.initial_mean = initial_mean\n",
    "        self.final_mean = final_mean\n",
    "        self.opinion_scale = 9\n",
    "        \n",
    "        self.shift = self.final_mean - self.initial_mean\n",
    "        # The maximum extremity is +/- opinion_scale.\n",
    "        # Later bins will be made for, e.g. 4.5 to 3.5 will\n",
    "        # be a 4, -0.5 to 0.5 will be 0 and so on.\n",
    "        self.extremity_factor = opinion_scale / 2.0 \n",
    "\n",
    "# See p. 779 of Myers & Bishop 1970 in Science\n",
    "study_id = 'Myers & Bishop 1970'\n",
    "opinion_scale = 9\n",
    "\n",
    "condition_id = 'Low Prejudice'\n",
    "studies = [\n",
    "    ObservedShift(study_id, condition_id, 2.94, 3.41, opinion_scale)\n",
    "]\n",
    "\n",
    "condition_id = 'Medium Prejudice'\n",
    "studies.append(\n",
    "    ObservedShift(study_id, condition_id, 1.30, 0.67, opinion_scale)\n",
    ")\n",
    "\n",
    "condition_id = 'High Prejudice'\n",
    "studies.append(\n",
    "    ObservedShift(study_id, condition_id, -1.70, -3.01, opinion_scale)\n",
    ")\n",
    "\n",
    "# See p. 710 in Myers 1975 in Human Relations \n",
    "study_id = 'Myers 1975'\n",
    "opinion_scale = 7\n",
    "\n",
    "condition_id = 'Feminists'\n",
    "studies.append(\n",
    "    ObservedShift(study_id, condition_id, 0.78, 1.72, opinion_scale)\n",
    ")\n",
    "\n",
    "condition_id = 'Chauvinists'\n",
    "studies.append(\n",
    "    ObservedShift(study_id, condition_id, -1.11, -1.14, opinion_scale)\n",
    ")"
   ]
  },
  {
   "cell_type": "code",
   "execution_count": 15,
   "metadata": {},
   "outputs": [
    {
     "name": "stdout",
     "output_type": "stream",
     "text": [
      "Study: Myers & Bishop 1970, Condition: Low Prejudice\n",
      "Shift scaled to +/- 1: 0.10444444444444449\n",
      "\n",
      "Study: Myers & Bishop 1970, Condition: Medium Prejudice\n",
      "Shift scaled to +/- 1: -0.14\n",
      "\n",
      "Study: Myers & Bishop 1970, Condition: High Prejudice\n",
      "Shift scaled to +/- 1: -0.2911111111111111\n",
      "\n",
      "Study: Myers 1975, Condition: Feminists\n",
      "Shift scaled to +/- 1: 0.26857142857142857\n",
      "\n",
      "Study: Myers 1975, Condition: Chauvinists\n",
      "Shift scaled to +/- 1: -0.008571428571428516\n",
      "\n"
     ]
    }
   ],
   "source": [
    "for study in studies:\n",
    "    print(\"Study: {}, Condition: {}\".format(\n",
    "        study.study_id, study.condition_id)\n",
    "    )\n",
    "    print(\"Shift scaled to +/- 1: {}\\n\".format(\n",
    "        study.shift / study.extremity_factor)\n",
    "    )"
   ]
  },
  {
   "cell_type": "markdown",
   "metadata": {},
   "source": [
    "OK, so currently my approach is not generating these numbers, but there is a step I have forgotten: pre- and post-binning of continuous opinions into discrete opinions. The scheme I want to use for this is to make $\\pm 1.0$ be $\\pm EF / 2.0 -/+ 0.01$ (EF stands for extremity factor). For example, if the study has used a seven-point scale then $\\pm 1.0$ would correspond to $\\pm 3.5$.\n",
    "\n",
    "Generating the pre- and post-discussion opinions we do the following. First, generate random initial opinions using a normal distribution with mean equal to the observed mean and a standard deviation of $PS / 4$ since we don't know the standard deviation for the studies I'm using as an example. Then I will bin each opinion with the following scheme. If, for example, the scale is nine-point then the categories are -4, -3, ..., 3, 4. I will clip opinions at $\\pm 4.4$ in this case as generated by the normal distribution. Then I will bin each continuous opinion by doing simple rounding. Thus, if an opinion is -1.2 it will be binned to -1. If it is -1.7 it will be binned to -2."
   ]
  },
  {
   "cell_type": "code",
   "execution_count": 16,
   "metadata": {},
   "outputs": [],
   "source": [
    "# from util import initial_opinions, cont_to_cat, cat_to_cont\n",
    "\n",
    "# # Demonstrate the use of these three as specified above.\n",
    "# ops = initial_opinions(n=4, mean=3.2, scale=9)\n"
   ]
  },
  {
   "cell_type": "code",
   "execution_count": 17,
   "metadata": {},
   "outputs": [],
   "source": [
    "from numpy.random import normal\n",
    "\n",
    "samples = normal(1.0, 2.0, size=5)\n",
    "samples\n",
    "\n",
    "rounded = np.array([round(x) for x in samples])\n",
    "# print(np.mean(rounded))\n",
    "# print(np.mean(samples))\n",
    "\n",
    "def cont_to_cat(vals, extremity_factor):\n",
    "#     print(type(vals))\n",
    "    vals = vals * extremity_factor\n",
    "#     print(vals)\n",
    "    vals[vals > extremity_factor] = extremity_factor\n",
    "    vals[vals < -extremity_factor] = - extremity_factor\n",
    "    rounded = np.array([round(x) for x in vals])\n",
    "    return rounded\n",
    "\n",
    "# Quick experiment to see average diff between original and rounded means\n",
    "# size = 20\n",
    "# n_trials = 10000\n",
    "# minmax = 4.49\n",
    "# sd = minmax / 2\n",
    "# mean = -1.7\n",
    "# res = np.zeros((n_trials,), dtype=float)\n",
    "# for idx in range(n_trials):\n",
    "#     samples = normal(mean, sd, size=size)\n",
    "#     rounded = cont_to_cat(samples, minmax)\n",
    "# #     print(rounded)\n",
    "#     res[idx] = samples.mean() - rounded.mean()\n",
    "    \n",
    "# print(res.mean())\n",
    "# plt.hist(res, bins=30)\n",
    "# print(res.max())\n",
    "# print(res.min())\n"
   ]
  },
  {
   "cell_type": "markdown",
   "metadata": {},
   "source": [
    "### Final outline of process\n",
    "\n",
    "1. Generate initial opinions with given mean. (Set a threshold to only use continuous distributions that closely match the corresponding binned distributions? No, seems wrong to assume initial continuous opinions should be any more faithful to categorical distribution than final opinions.)\n",
    "1. Run dynamics with continuous initial opinions.\n",
    "1. After n_iter interactions, stop simulation, bin opinions, and measure the mean.\n",
    "\n",
    "Use above code as a guide with the continuous-to-categorical mapping function where necessary."
   ]
  },
  {
   "cell_type": "code",
   "execution_count": 18,
   "metadata": {},
   "outputs": [],
   "source": [
    "class ShiftExperiment:\n",
    "    \n",
    "    def __init__(self, n_agents, initial_dist, \n",
    "                 extremity_factor=4.49, **initial_dist_kwargs):\n",
    "        '''\n",
    "        Arguments:\n",
    "            n_agents (int): Number of agents for each simulation trial\n",
    "            initial_dist (numpy.random function): e.g. numpy.random.normal\n",
    "            dist_kwargs (dict): additional parameters needed for defining\n",
    "             given initial_dist distribution function, e.g. loc=0.0,\n",
    "             scale=1.0, size=(n_agents,) for n_agents samples from normal\n",
    "             distribution with mean 0 and sd 1.\n",
    "        '''\n",
    "        ## Initialize the interaction Network. \n",
    "        \n",
    "        # Begin with a complete graph and assigning graph nodes to be Agents\n",
    "        # with specified initial opinions.\n",
    "        graph = nx.complete_graph(n_agents)\n",
    "        \n",
    "        # Make nodes into agents with one opinion. Under the hood this\n",
    "        # still initializes opinions to be uniform random, but these\n",
    "        # will be overwritten using user-provided distribution.\n",
    "        graph = nx.relabel_nodes(\n",
    "            graph, \n",
    "            {n: Agent(n_opinions=1)  # , low_opinion=low_init_op, high_opinion=high_init_op) \n",
    "             for n in graph.nodes()}\n",
    "        )\n",
    "        \n",
    "        # Initialize each agent's opinions based on \n",
    "        # provided distribution.\n",
    "        for node in graph.nodes():\n",
    "            val = initial_dist(**initial_dist_kwargs)\n",
    "#             print(val)\n",
    "            if val > extremity_factor:\n",
    "                node.opinions[0] = 1.0\n",
    "            elif val < -extremity_factor:\n",
    "                node.opinions[0] = -1.0\n",
    "            else:\n",
    "                node.opinions[0] = val / extremity_factor\n",
    "                \n",
    "        # Extract each agent's opinion.\n",
    "        self.init_opinions = [nd.opinions[0] for nd in graph.nodes()]\n",
    "        \n",
    "        # Initialize Network that will be iterated.\n",
    "        self.network = Network(graph)\n",
    "        \n",
    "        # Store extremity_factor to pass on to ShiftExperimentResult\n",
    "        # to convert continuous variables to categorical variables.\n",
    "        self.extremity_factor = extremity_factor\n",
    "    \n",
    "    def run(self, n_iter, alpha=1):\n",
    "        '''\n",
    "        Iterate the system the specified number of times to run the experiment.\n",
    "        \n",
    "        Returns:\n",
    "            (ShiftExperimentResult): Object that holds the initial and\n",
    "                final opinions and the network.\n",
    "        '''\n",
    "        # Iterate the system a given number of times, approximating the\n",
    "        # number of rounds of interaction in an experiment.\n",
    "        for _ in range(n_iter):\n",
    "            self.network.iterate(alpha=alpha)\n",
    "        \n",
    "        # Extract the opinions of each agent at the final timestep.\n",
    "        self.final_opinions = [nd.opinions[0] for nd \n",
    "                               in self.network.graph.nodes()]\n",
    "        \n",
    "        # Wrap results and other info into ShiftExperimentResult.\n",
    "        return ShiftExperimentResult(\n",
    "            self.init_opinions, self.final_opinions, self.network,\n",
    "            self.extremity_factor\n",
    "        )\n",
    "    \n",
    "    \n",
    "class ShiftExperimentResult:\n",
    "    \n",
    "    def __init__(self, initial_opinions, final_opinions, \n",
    "                 network, extremity_factor):\n",
    "        \n",
    "        \n",
    "        self.initial_opinions = np.array(initial_opinions)\n",
    "        self.final_opinions = np.array(final_opinions)\n",
    "        \n",
    "        self.network = network\n",
    "        final_cat = cont_to_cat(self.final_opinions, extremity_factor)\n",
    "        initial_cat = cont_to_cat(self.initial_opinions, extremity_factor)\n",
    "\n",
    "#         print(initial_cat)\n",
    "#         print(final_cat)\n",
    "\n",
    "        self.shift = np.mean(final_cat) - np.mean(initial_cat)\n",
    "        \n",
    "\n",
    "    \n",
    "def run_trials(n_agents, alpha, extremity_factor, initial_dist=np.random.normal, \n",
    "               n_iter=10, n_trials=100, **initial_dist_kwargs):\n",
    "    \n",
    "    shifts = np.zeros((n_trials,), dtype=float)\n",
    "\n",
    "    for idx in range(n_trials):\n",
    "        experiment = ShiftExperiment(\n",
    "            n_agents, initial_dist, \n",
    "            extremity_factor=extremity_factor, **initial_dist_kwargs)\n",
    "        res = experiment.run(n_iter, alpha)\n",
    "        shifts[idx] = res.shift\n",
    "    \n",
    "#     print(res.initial_opinions)\n",
    "#     print(res.final_opinions)\n",
    "    \n",
    "    return shifts\n"
   ]
  },
  {
   "cell_type": "code",
   "execution_count": 21,
   "metadata": {},
   "outputs": [
    {
     "name": "stdout",
     "output_type": "stream",
     "text": [
      "-0.46153846153846156\n",
      "1.9230769230769231\n",
      "0.5961538461538461\n"
     ]
    },
    {
     "ename": "AttributeError",
     "evalue": "'numpy.ndarray' object has no attribute 'stddev'",
     "output_type": "error",
     "traceback": [
      "\u001b[0;31m---------------------------------------------------------------------------\u001b[0m",
      "\u001b[0;31mAttributeError\u001b[0m                            Traceback (most recent call last)",
      "\u001b[0;32m<ipython-input-21-473c13ac2e58>\u001b[0m in \u001b[0;36m<module>\u001b[0;34m\u001b[0m\n\u001b[1;32m     20\u001b[0m \u001b[0mprint\u001b[0m\u001b[0;34m(\u001b[0m\u001b[0mshifts\u001b[0m\u001b[0;34m.\u001b[0m\u001b[0mmax\u001b[0m\u001b[0;34m(\u001b[0m\u001b[0;34m)\u001b[0m\u001b[0;34m)\u001b[0m\u001b[0;34m\u001b[0m\u001b[0;34m\u001b[0m\u001b[0m\n\u001b[1;32m     21\u001b[0m \u001b[0mprint\u001b[0m\u001b[0;34m(\u001b[0m\u001b[0mshifts\u001b[0m\u001b[0;34m.\u001b[0m\u001b[0mmean\u001b[0m\u001b[0;34m(\u001b[0m\u001b[0;34m)\u001b[0m\u001b[0;34m)\u001b[0m\u001b[0;34m\u001b[0m\u001b[0;34m\u001b[0m\u001b[0m\n\u001b[0;32m---> 22\u001b[0;31m \u001b[0mprint\u001b[0m\u001b[0;34m(\u001b[0m\u001b[0mshifts\u001b[0m\u001b[0;34m.\u001b[0m\u001b[0mstddev\u001b[0m\u001b[0;34m(\u001b[0m\u001b[0;34m)\u001b[0m\u001b[0;34m)\u001b[0m\u001b[0;34m\u001b[0m\u001b[0;34m\u001b[0m\u001b[0m\n\u001b[0m\u001b[1;32m     23\u001b[0m \u001b[0mplt\u001b[0m\u001b[0;34m.\u001b[0m\u001b[0mhist\u001b[0m\u001b[0;34m(\u001b[0m\u001b[0mshifts\u001b[0m\u001b[0;34m)\u001b[0m\u001b[0;34m\u001b[0m\u001b[0;34m\u001b[0m\u001b[0m\n",
      "\u001b[0;31mAttributeError\u001b[0m: 'numpy.ndarray' object has no attribute 'stddev'"
     ]
    }
   ],
   "source": [
    "# Initialize feminist group from Myers 1975.\n",
    "n_agents = 26\n",
    "n_trials = 10\n",
    "n_iter = 500\n",
    "alpha = 1.0\n",
    "init_mean = 0.78\n",
    "extremity_factor = 3.49  # 7-point scale\n",
    "init_stddev = extremity_factor / 3.0  # Arbitrary assumption.\n",
    "\n",
    "\n",
    "shifts = run_trials(n_agents, alpha, extremity_factor, n_iter=n_iter, \n",
    "                    n_trials=n_trials, loc=init_mean, \n",
    "                    scale=init_stddev)\n",
    "\n",
    "# exp = ShiftExperiment(n_agents=5, initial_dist=np.random.normal, \n",
    "#                       extremity_factor=extremity_factor, \n",
    "#                       loc=0.78, scale=extremity_factor / 2.0)\n",
    "\n",
    "print(shifts.min())\n",
    "print(shifts.max())\n",
    "print(shifts.mean())\n",
    "print(shifts.stddev())\n",
    "plt.hist(shifts)"
   ]
  },
  {
   "cell_type": "code",
   "execution_count": 22,
   "metadata": {},
   "outputs": [
    {
     "data": {
      "text/plain": [
       "0.6728571069629364"
      ]
     },
     "execution_count": 22,
     "metadata": {},
     "output_type": "execute_result"
    }
   ],
   "source": [
    "shifts.std()"
   ]
  },
  {
   "cell_type": "code",
   "execution_count": null,
   "metadata": {},
   "outputs": [],
   "source": []
  }
 ],
 "metadata": {
  "kernelspec": {
   "display_name": "Python 3",
   "language": "python",
   "name": "python3"
  },
  "language_info": {
   "codemirror_mode": {
    "name": "ipython",
    "version": 3
   },
   "file_extension": ".py",
   "mimetype": "text/x-python",
   "name": "python",
   "nbconvert_exporter": "python",
   "pygments_lexer": "ipython3",
   "version": "3.7.4"
  }
 },
 "nbformat": 4,
 "nbformat_minor": 2
}
